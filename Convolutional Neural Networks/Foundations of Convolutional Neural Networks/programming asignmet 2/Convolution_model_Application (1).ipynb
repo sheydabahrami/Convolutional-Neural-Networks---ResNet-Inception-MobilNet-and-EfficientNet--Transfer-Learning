{
 "cells": [
  {
   "cell_type": "markdown",
   "metadata": {},
   "source": [
    "# Convolutional Neural Networks: Application\n",
    "\n",
    "Welcome to Course 4's second assignment! In this notebook, you will:\n",
    "\n",
    "- Create a mood classifer using the TF Keras Sequential API\n",
    "- Build a ConvNet to identify sign language digits using the TF Keras Functional API\n",
    "\n",
    "**After this assignment you will be able to:**\n",
    "\n",
    "- Build and train a ConvNet in TensorFlow for a __binary__ classification problem\n",
    "- Build and train a ConvNet in TensorFlow for a __multiclass__ classification problem\n",
    "- Explain different use cases for the Sequential and Functional APIs\n",
    "\n",
    "To complete this assignment, you should already be familiar with TensorFlow. If you are not, please refer back to the **TensorFlow Tutorial** of the third week of Course 2 (\"**Improving deep neural networks**\")."
   ]
  },
  {
   "cell_type": "markdown",
   "metadata": {},
   "source": [
    "## Table of Contents\n",
    "\n",
    "- [1 - Packages](#1)\n",
    "    - [1.1 - Load the Data and Split the Data into Train/Test Sets](#1-1)\n",
    "- [2 - Layers in TF Keras](#2)\n",
    "- [3 - The Sequential API](#3)\n",
    "    - [3.1 - Create the Sequential Model](#3-1)\n",
    "        - [Exercise 1 - happyModel](#ex-1)\n",
    "    - [3.2 - Train and Evaluate the Model](#3-2)\n",
    "- [4 - The Functional API](#4)\n",
    "    - [4.1 - Load the SIGNS Dataset](#4-1)\n",
    "    - [4.2 - Split the Data into Train/Test Sets](#4-2)\n",
    "    - [4.3 - Forward Propagation](#4-3)\n",
    "        - [Exercise 2 - convolutional_model](#ex-2)\n",
    "    - [4.4 - Train the Model](#4-4)\n",
    "- [5 - History Object](#5)\n",
    "- [6 - Bibliography](#6)"
   ]
  },
  {
   "cell_type": "markdown",
   "metadata": {},
   "source": [
    "<a name='1'></a>\n",
    "## 1 - Packages\n",
    "\n",
    "As usual, begin by loading in the packages."
   ]
  },
  {
   "cell_type": "code",
   "execution_count": 1,
   "metadata": {},
   "outputs": [],
   "source": [
    "import math\n",
    "import numpy as np\n",
    "import h5py\n",
    "import matplotlib.pyplot as plt\n",
    "from matplotlib.pyplot import imread\n",
    "import scipy\n",
    "from PIL import Image\n",
    "import pandas as pd\n",
    "import tensorflow as tf\n",
    "import tensorflow.keras.layers as tfl\n",
    "from tensorflow.python.framework import ops\n",
    "from cnn_utils import *\n",
    "from test_utils import summary, comparator\n",
    "\n",
    "%matplotlib inline\n",
    "np.random.seed(1)"
   ]
  },
  {
   "cell_type": "markdown",
   "metadata": {},
   "source": [
    "<a name='1-1'></a>\n",
    "### 1.1 - Load the Data and Split the Data into Train/Test Sets\n",
    "\n",
    "You'll be using the Happy House dataset for this part of the assignment, which contains images of peoples' faces. Your task will be to build a ConvNet that determines whether the people in the images are smiling or not -- because they only get to enter the house if they're smiling!  "
   ]
  },
  {
   "cell_type": "code",
   "execution_count": 2,
   "metadata": {},
   "outputs": [
    {
     "name": "stdout",
     "output_type": "stream",
     "text": [
      "number of training examples = 600\n",
      "number of test examples = 150\n",
      "X_train shape: (600, 64, 64, 3)\n",
      "Y_train shape: (600, 1)\n",
      "X_test shape: (150, 64, 64, 3)\n",
      "Y_test shape: (150, 1)\n"
     ]
    }
   ],
   "source": [
    "X_train_orig, Y_train_orig, X_test_orig, Y_test_orig, classes = load_happy_dataset()\n",
    "\n",
    "# Normalize image vectors\n",
    "X_train = X_train_orig/255.\n",
    "X_test = X_test_orig/255.\n",
    "\n",
    "# Reshape\n",
    "Y_train = Y_train_orig.T\n",
    "Y_test = Y_test_orig.T\n",
    "\n",
    "print (\"number of training examples = \" + str(X_train.shape[0]))\n",
    "print (\"number of test examples = \" + str(X_test.shape[0]))\n",
    "print (\"X_train shape: \" + str(X_train.shape))\n",
    "print (\"Y_train shape: \" + str(Y_train.shape))\n",
    "print (\"X_test shape: \" + str(X_test.shape))\n",
    "print (\"Y_test shape: \" + str(Y_test.shape))"
   ]
  },
  {
   "cell_type": "markdown",
   "metadata": {},
   "source": [
    "You can display the images contained in the dataset. Images are **64x64** pixels in RGB format (3 channels)."
   ]
  },
  {
   "cell_type": "code",
   "execution_count": 3,
   "metadata": {},
   "outputs": [
    {
     "data": {
      "image/png": "[encoded data removed]",
      "text/plain": [
       "<Figure size 432x288 with 1 Axes>"
      ]
     },
     "metadata": {
      "needs_background": "light"
     },
     "output_type": "display_data"
    }
   ],
   "source": [
    "index = 124\n",
    "plt.imshow(X_train_orig[index]) #display sample training image\n",
    "plt.show()"
   ]
  },
  {
   "cell_type": "markdown",
   "metadata": {},
   "source": [
    "<a name='2'></a>\n",
    "## 2 - Layers in TF Keras \n",
    "\n",
    "In the previous assignment, you created layers manually in numpy. In TF Keras, you don't have to write code directly to create layers. Rather, TF Keras has pre-defined layers you can use. \n",
    "\n",
    "When you create a layer in TF Keras, you are creating a function that takes some input and transforms it into an output you can reuse later. Nice and easy! "
   ]
  },
  {
   "cell_type": "markdown",
   "metadata": {},
   "source": [
    "<a name='3'></a>\n",
    "## 3 - The Sequential API\n",
    "\n",
    "In the previous assignment, you built helper functions using `numpy` to understand the mechanics behind convolutional neural networks. Most practical applications of deep learning today are built using programming frameworks, which have many built-in functions you can simply call. Keras is a high-level abstraction built on top of TensorFlow, which allows for even more simplified and optimized model creation and training. \n",
    "\n",
    "For the first part of this assignment, you'll create a model using TF Keras' Sequential API, which allows you to build layer by layer, and is ideal for building models where each layer has **exactly one** input tensor and **one** output tensor. \n",
    "\n",
    "As you'll see, using the Sequential API is simple and straightforward, but is only appropriate for simpler, more straightforward tasks. Later in this notebook you'll spend some time building with a more flexible, powerful alternative: the Functional API. \n",
    " "
   ]
  },
  {
   "cell_type": "markdown",
   "metadata": {},
   "source": [
    "<a name='3-1'></a>\n",
    "### 3.1 - Create the Sequential Model\n",
    "\n",
    "As mentioned earlier, the TensorFlow Keras Sequential API can be used to build simple models with layer operations that proceed in a sequential order. \n",
    "\n",
    "You can also add layers incrementally to a Sequential model with the `.add()` method, or remove them using the `.pop()` method, much like you would in a regular Python list.\n",
    "\n",
    "Actually, you can think of a Sequential model as behaving like a list of layers. Like Python lists, Sequential layers are ordered, and the order in which they are specified matters.  If your model is non-linear or contains layers with multiple inputs or outputs, a Sequential model wouldn't be the right choice!\n",
    "\n",
    "For any layer construction in Keras, you'll need to specify the input shape in advance. This is because in Keras, the shape of the weights is based on the shape of the inputs. The weights are only created when the model first sees some input data. Sequential models can be created by passing a list of layers to the Sequential constructor, like you will do in the next assignment.\n",
    "\n",
    "<a name='ex-1'></a>\n",
    "### Exercise 1 - happyModel\n",
    "\n",
    "Implement the `happyModel` function below to build the following model: `ZEROPAD2D -> CONV2D -> BATCHNORM -> RELU -> MAXPOOL -> FLATTEN -> DENSE`. Take help from [tf.keras.layers](https://www.tensorflow.org/api_docs/python/tf/keras/layers) \n",
    "\n",
    "Also, plug in the following parameters for all the steps:\n",
    "\n",
    " - [ZeroPadding2D](https://www.tensorflow.org/api_docs/python/tf/keras/layers/ZeroPadding2D): padding 3, input shape 64 x 64 x 3\n",
    " - [Conv2D](https://www.tensorflow.org/api_docs/python/tf/keras/layers/Conv2D): Use 32 7x7 filters, stride 1\n",
    " - [BatchNormalization](https://www.tensorflow.org/api_docs/python/tf/keras/layers/BatchNormalization): for axis 3\n",
    " - [ReLU](https://www.tensorflow.org/api_docs/python/tf/keras/layers/ReLU)\n",
    " - [MaxPool2D](https://www.tensorflow.org/api_docs/python/tf/keras/layers/MaxPool2D): Using default parameters\n",
    " - [Flatten](https://www.tensorflow.org/api_docs/python/tf/keras/layers/Flatten) the previous output.\n",
    " - Fully-connected ([Dense](https://www.tensorflow.org/api_docs/python/tf/keras/layers/Dense)) layer: Apply a fully connected layer with 1 neuron and a sigmoid activation. \n",
    " \n",
    " \n",
    " **Hint:**\n",
    " \n",
    " Use **tfl** as shorthand for **tensorflow.keras.layers**"
   ]
  },
  {
   "cell_type": "code",
   "execution_count": 4,
   "metadata": {
    "deletable": false,
    "nbgrader": {
     "cell_type": "code",
     "checksum": "95d28b191f257bdd5b70c7b8952559d5",
     "grade": false,
     "grade_id": "cell-0e56d3fc28b69aec",
     "locked": false,
     "schema_version": 3,
     "solution": true,
     "task": false
    }
   },
   "outputs": [],
   "source": [
    "# GRADED FUNCTION: happyModel\n",
    "\n",
    "def happyModel():\n",
    "    \"\"\"\n",
    "    Implements the forward propagation for the binary classification model:\n",
    "    ZEROPAD2D -> CONV2D -> BATCHNORM -> RELU -> MAXPOOL -> FLATTEN -> DENSE\n",
    "    \n",
    "    Note that for simplicity and grading purposes, you'll hard-code all the values\n",
    "    such as the stride and kernel (filter) sizes. \n",
    "    Normally, functions should take these values as function parameters.\n",
    "    \n",
    "    Arguments:\n",
    "    None\n",
    "\n",
    "    Returns:\n",
    "    model -- TF Keras model (object containing the information for the entire training process) \n",
    "    \"\"\"\n",
    "    \n",
    "    ## ZeroPadding2D with padding 3, input shape of 64 x 64 x 3\n",
    "            \n",
    "    ## Conv2D with 32 7x7 filters and stride of 1\n",
    "            \n",
    "    ## BatchNormalization for axis 3\n",
    "            \n",
    "    ## ReLU\n",
    "            \n",
    "    ## Max Pooling 2D with default parameters\n",
    "            \n",
    "    ## Flatten layer\n",
    "            \n",
    "    ## Dense layer with 1 unit for output & 'sigmoid' activation\n",
    "            \n",
    "            # YOUR CODE STARTS HERE\n",
    "            \n",
    "    model = tf.keras.Sequential([\n",
    "    tfl.ZeroPadding2D(padding=(3,3), input_shape=(64,64,3)),\n",
    "    tfl.Conv2D(\n",
    "    filters=32,\n",
    "    kernel_size=(7,7),\n",
    "    strides=(1,1),\n",
    "    padding='valid'),\n",
    "    tfl.BatchNormalization(axis=3),\n",
    "    tfl.ReLU(),\n",
    "    tfl.MaxPool2D(),\n",
    "    tfl.Flatten(),\n",
    "    tfl.Dense(units = 1, activation='sigmoid')])\n",
    "            # YOUR CODE ENDS HERE\n",
    "       \n",
    "    \n",
    "    return model"
   ]
  },
  {
   "cell_type": "code",
   "execution_count": 5,
   "metadata": {
    "deletable": false,
    "editable": false,
    "nbgrader": {
     "cell_type": "code",
     "checksum": "8d3575c950e2e78149be2d05d671c80d",
     "grade": true,
     "grade_id": "cell-e3e1046e5c33d775",
     "locked": true,
     "points": 10,
     "schema_version": 3,
     "solution": false,
     "task": false
    }
   },
   "outputs": [
    {
     "name": "stdout",
     "output_type": "stream",
     "text": [
      "['ZeroPadding2D', (None, 70, 70, 3), 0, ((3, 3), (3, 3))]\n",
      "['Conv2D', (None, 64, 64, 32), 4736, 'valid', 'linear', 'GlorotUniform']\n",
      "['BatchNormalization', (None, 64, 64, 32), 128]\n",
      "['ReLU', (None, 64, 64, 32), 0]\n",
      "['MaxPooling2D', (None, 32, 32, 32), 0, (2, 2), (2, 2), 'valid']\n",
      "['Flatten', (None, 32768), 0]\n",
      "['Dense', (None, 1), 32769, 'sigmoid']\n",
      "\u001b[32mAll tests passed!\u001b[0m\n"
     ]
    }
   ],
   "source": [
    "happy_model = happyModel()\n",
    "# Print a summary for each layer\n",
    "for layer in summary(happy_model):\n",
    "    print(layer)\n",
    "    \n",
    "output = [['ZeroPadding2D', (None, 70, 70, 3), 0, ((3, 3), (3, 3))],\n",
    "            ['Conv2D', (None, 64, 64, 32), 4736, 'valid', 'linear', 'GlorotUniform'],\n",
    "            ['BatchNormalization', (None, 64, 64, 32), 128],\n",
    "            ['ReLU', (None, 64, 64, 32), 0],\n",
    "            ['MaxPooling2D', (None, 32, 32, 32), 0, (2, 2), (2, 2), 'valid'],\n",
    "            ['Flatten', (None, 32768), 0],\n",
    "            ['Dense', (None, 1), 32769, 'sigmoid']]\n",
    "    \n",
    "comparator(summary(happy_model), output)"
   ]
  },
  {
   "cell_type": "markdown",
   "metadata": {},
   "source": [
    "Now that your model is created, you can compile it for training with an optimizer and loss of your choice. When the string `accuracy` is specified as a metric, the type of accuracy used will be automatically converted based on the loss function used. This is one of the many optimizations built into TensorFlow that make your life easier! If you'd like to read more on how the compiler operates, check the docs [here](https://www.tensorflow.org/api_docs/python/tf/keras/Model#compile)."
   ]
  },
  {
   "cell_type": "code",
   "execution_count": 6,
   "metadata": {},
   "outputs": [],
   "source": [
    "happy_model.compile(optimizer='adam',\n",
    "                   loss='binary_crossentropy',\n",
    "                   metrics=['accuracy'])"
   ]
  },
  {
   "cell_type": "markdown",
   "metadata": {},
   "source": [
    "It's time to check your model's parameters with the `.summary()` method. This will display the types of layers you have, the shape of the outputs, and how many parameters are in each layer. "
   ]
  },
  {
   "cell_type": "code",
   "execution_count": 7,
   "metadata": {},
   "outputs": [
    {
     "name": "stdout",
     "output_type": "stream",
     "text": [
      "Model: \"sequential\"\n",
      "_________________________________________________________________\n",
      "Layer (type)                 Output Shape              Param #   \n",
      "=================================================================\n",
      "zero_padding2d (ZeroPadding2 (None, 70, 70, 3)         0         \n",
      "_________________________________________________________________\n",
      "conv2d (Conv2D)              (None, 64, 64, 32)        4736      \n",
      "_________________________________________________________________\n",
      "batch_normalization (BatchNo (None, 64, 64, 32)        128       \n",
      "_________________________________________________________________\n",
      "re_lu (ReLU)                 (None, 64, 64, 32)        0         \n",
      "_________________________________________________________________\n",
      "max_pooling2d (MaxPooling2D) (None, 32, 32, 32)        0         \n",
      "_________________________________________________________________\n",
      "flatten (Flatten)            (None, 32768)             0         \n",
      "_________________________________________________________________\n",
      "dense (Dense)                (None, 1)                 32769     \n",
      "=================================================================\n",
      "Total params: 37,633\n",
      "Trainable params: 37,569\n",
      "Non-trainable params: 64\n",
      "_________________________________________________________________\n"
     ]
    }
   ],
   "source": [
    "happy_model.summary()"
   ]
  },
  {
   "cell_type": "markdown",
   "metadata": {},
   "source": [
    "<a name='3-2'></a>\n",
    "### 3.2 - Train and Evaluate the Model\n",
    "\n",
    "After creating the model, compiling it with your choice of optimizer and loss function, and doing a sanity check on its contents, you are now ready to build! \n",
    "\n",
    "Simply call `.fit()` to train. That's it! No need for mini-batching, saving, or complex backpropagation computations. That's all been done for you, as you're using a TensorFlow dataset with the batches specified already. You do have the option to specify epoch number or minibatch size if you like (for example, in the case of an un-batched dataset)."
   ]
  },
  {
   "cell_type": "code",
   "execution_count": 8,
   "metadata": {},
   "outputs": [
    {
     "name": "stdout",
     "output_type": "stream",
     "text": [
      "Epoch 1/10\n",
      "38/38 [==============================] - 4s 92ms/step - loss: 1.1574 - accuracy: 0.7100\n",
      "Epoch 2/10\n",
      "38/38 [==============================] - 3s 87ms/step - loss: 0.2100 - accuracy: 0.9217\n",
      "Epoch 3/10\n",
      "38/38 [==============================] - 3s 89ms/step - loss: 0.1648 - accuracy: 0.9300\n",
      "Epoch 4/10\n",
      "38/38 [==============================] - 3s 90ms/step - loss: 0.2121 - accuracy: 0.9117\n",
      "Epoch 5/10\n",
      "38/38 [==============================] - 3s 90ms/step - loss: 0.2900 - accuracy: 0.9050\n",
      "Epoch 6/10\n",
      "38/38 [==============================] - 3s 90ms/step - loss: 0.2712 - accuracy: 0.9217\n",
      "Epoch 7/10\n",
      "38/38 [==============================] - 3s 87ms/step - loss: 0.1154 - accuracy: 0.9617\n",
      "Epoch 8/10\n",
      "38/38 [==============================] - 3s 90ms/step - loss: 0.1525 - accuracy: 0.9533\n",
      "Epoch 9/10\n",
      "38/38 [==============================] - 3s 90ms/step - loss: 0.0964 - accuracy: 0.9717\n",
      "Epoch 10/10\n",
      "38/38 [==============================] - 3s 89ms/step - loss: 0.0787 - accuracy: 0.9783\n"
     ]
    },
    {
     "data": {
      "text/plain": [
       "<tensorflow.python.keras.callbacks.History at 0x7f23d89e0b50>"
      ]
     },
     "execution_count": 8,
     "metadata": {},
     "output_type": "execute_result"
    }
   ],
   "source": [
    "happy_model.fit(X_train, Y_train, epochs=10, batch_size=16)"
   ]
  },
  {
   "cell_type": "markdown",
   "metadata": {},
   "source": [
    "After that completes, just use `.evaluate()` to evaluate against your test set. This function will print the value of the loss function and the performance metrics specified during the compilation of the model. In this case, the `binary_crossentropy` and the `accuracy` respectively."
   ]
  },
  {
   "cell_type": "code",
   "execution_count": 9,
   "metadata": {},
   "outputs": [
    {
     "name": "stdout",
     "output_type": "stream",
     "text": [
      "5/5 [==============================] - 0s 39ms/step - loss: 0.0892 - accuracy: 0.9667\n"
     ]
    },
    {
     "data": {
      "text/plain": [
       "[0.08922607451677322, 0.9666666388511658]"
      ]
     },
     "execution_count": 9,
     "metadata": {},
     "output_type": "execute_result"
    }
   ],
   "source": [
    "happy_model.evaluate(X_test, Y_test)"
   ]
  },
  {
   "cell_type": "markdown",
   "metadata": {},
   "source": [
    "Easy, right? But what if you need to build a model with shared layers, branches, or multiple inputs and outputs? This is where Sequential, with its beautifully simple yet limited functionality, won't be able to help you. \n",
    "\n",
    "Next up: Enter the Functional API, your slightly more complex, highly flexible friend.  "
   ]
  },
  {
   "cell_type": "markdown",
   "metadata": {},
   "source": [
    "<a name='4'></a>\n",
    "## 4 - The Functional API"
   ]
  },
  {
   "cell_type": "markdown",
   "metadata": {},
   "source": [
    "Welcome to the second half of the assignment, where you'll use Keras' flexible [Functional API](https://www.tensorflow.org/guide/keras/functional) to build a ConvNet that can differentiate between 6 sign language digits. \n",
    "\n",
    "The Functional API can handle models with non-linear topology, shared layers, as well as layers with multiple inputs or outputs. Imagine that, where the Sequential API requires the model to move in a linear fashion through its layers, the Functional API allows much more flexibility. Where Sequential is a straight line, a Functional model is a graph, where the nodes of the layers can connect in many more ways than one. \n",
    "\n",
    "In the visual example below, the one possible direction of the movement Sequential model is shown in contrast to a skip connection, which is just one of the many ways a Functional model can be constructed. A skip connection, as you might have guessed, skips some layer in the network and feeds the output to a later layer in the network. Don't worry, you'll be spending more time with skip connections very soon! "
   ]
  },
  {
   "cell_type": "markdown",
   "metadata": {},
   "source": [
    "<img src=\"images/seq_vs_func.png\" style=\"width:350px;height:200px;\">"
   ]
  },
  {
   "cell_type": "markdown",
   "metadata": {},
   "source": [
    "<a name='4-1'></a>\n",
    "### 4.1 - Load the SIGNS Dataset\n",
    "\n",
    "As a reminder, the SIGNS dataset is a collection of 6 signs representing numbers from 0 to 5."
   ]
  },
  {
   "cell_type": "code",
   "execution_count": 10,
   "metadata": {},
   "outputs": [],
   "source": [
    "# Loading the data (signs)\n",
    "X_train_orig, Y_train_orig, X_test_orig, Y_test_orig, classes = load_signs_dataset()"
   ]
  },
  {
   "cell_type": "markdown",
   "metadata": {},
   "source": [
    "<img src=\"images/SIGNS.png\" style=\"width:800px;height:300px;\">\n",
    "\n",
    "The next cell will show you an example of a labelled image in the dataset. Feel free to change the value of `index` below and re-run to see different examples. "
   ]
  },
  {
   "cell_type": "code",
   "execution_count": 11,
   "metadata": {},
   "outputs": [
    {
     "name": "stdout",
     "output_type": "stream",
     "text": [
      "y = 4\n"
     ]
    },
    {
     "data": {
      "image/png": "[encoded data removed]",
      "text/plain": [
       "<Figure size 432x288 with 1 Axes>"
      ]
     },
     "metadata": {
      "needs_background": "light"
     },
     "output_type": "display_data"
    }
   ],
   "source": [
    "# Example of an image from the dataset\n",
    "index = 9\n",
    "plt.imshow(X_train_orig[index])\n",
    "print (\"y = \" + str(np.squeeze(Y_train_orig[:, index])))"
   ]
  },
  {
   "cell_type": "markdown",
   "metadata": {},
   "source": [
    "<a name='4-2'></a>\n",
    "### 4.2 - Split the Data into Train/Test Sets\n",
    "\n",
    "In Course 2, you built a fully-connected network for this dataset. But since this is an image dataset, it is more natural to apply a ConvNet to it.\n",
    "\n",
    "To get started, let's examine the shapes of your data. "
   ]
  },
  {
   "cell_type": "code",
   "execution_count": 12,
   "metadata": {},
   "outputs": [
    {
     "name": "stdout",
     "output_type": "stream",
     "text": [
      "number of training examples = 1080\n",
      "number of test examples = 120\n",
      "X_train shape: (1080, 64, 64, 3)\n",
      "Y_train shape: (1080, 6)\n",
      "X_test shape: (120, 64, 64, 3)\n",
      "Y_test shape: (120, 6)\n"
     ]
    }
   ],
   "source": [
    "X_train = X_train_orig/255.\n",
    "X_test = X_test_orig/255.\n",
    "Y_train = convert_to_one_hot(Y_train_orig, 6).T\n",
    "Y_test = convert_to_one_hot(Y_test_orig, 6).T\n",
    "print (\"number of training examples = \" + str(X_train.shape[0]))\n",
    "print (\"number of test examples = \" + str(X_test.shape[0]))\n",
    "print (\"X_train shape: \" + str(X_train.shape))\n",
    "print (\"Y_train shape: \" + str(Y_train.shape))\n",
    "print (\"X_test shape: \" + str(X_test.shape))\n",
    "print (\"Y_test shape: \" + str(Y_test.shape))"
   ]
  },
  {
   "cell_type": "markdown",
   "metadata": {},
   "source": [
    "<a name='4-3'></a>\n",
    "### 4.3 - Forward Propagation\n",
    "\n",
    "In TensorFlow, there are built-in functions that implement the convolution steps for you. By now, you should be familiar with how TensorFlow builds computational graphs. In the [Functional API](https://www.tensorflow.org/guide/keras/functional), you create a graph of layers. This is what allows such great flexibility.\n",
    "\n",
    "However, the following model could also be defined using the Sequential API since the information flow is on a single line. But don't deviate. What we want you to learn is to use the functional API.\n",
    "\n",
    "Begin building your graph of layers by creating an input node that functions as a callable object:\n",
    "\n",
    "- **input_img = tf.keras.Input(shape=input_shape):** \n",
    "\n",
    "Then, create a new node in the graph of layers by calling a layer on the `input_img` object: \n",
    "\n",
    "- **tf.keras.layers.Conv2D(filters= ... , kernel_size= ... , padding='same')(input_img):** Read the full documentation on [Conv2D](https://www.tensorflow.org/api_docs/python/tf/keras/layers/Conv2D).\n",
    "\n",
    "- **tf.keras.layers.MaxPool2D(pool_size=(f, f), strides=(s, s), padding='same'):** `MaxPool2D()` downsamples your input using a window of size (f, f) and strides of size (s, s) to carry out max pooling over each window.  For max pooling, you usually operate on a single example at a time and a single channel at a time. Read the full documentation on [MaxPool2D](https://www.tensorflow.org/api_docs/python/tf/keras/layers/MaxPool2D).\n",
    "\n",
    "- **tf.keras.layers.ReLU():** computes the elementwise ReLU of Z (which can be any shape). You can read the full documentation on [ReLU](https://www.tensorflow.org/api_docs/python/tf/keras/layers/ReLU).\n",
    "\n",
    "- **tf.keras.layers.Flatten()**: given a tensor \"P\", this function takes each training (or test) example in the batch and flattens it into a 1D vector.  \n",
    "\n",
    "    * If a tensor P has the shape (batch_size,h,w,c), it returns a flattened tensor with shape (batch_size, k), where $k=h \\times w \\times c$.  \"k\" equals the product of all the dimension sizes other than the first dimension.\n",
    "    \n",
    "    * For example, given a tensor with dimensions [100, 2, 3, 4], it flattens the tensor to be of shape [100, 24], where 24 = 2 * 3 * 4.  You can read the full documentation on [Flatten](https://www.tensorflow.org/api_docs/python/tf/keras/layers/Flatten).\n",
    "\n",
    "- **tf.keras.layers.Dense(units= ... , activation='softmax')(F):** given the flattened input F, it returns the output computed using a fully connected layer. You can read the full documentation on [Dense](https://www.tensorflow.org/api_docs/python/tf/keras/layers/Dense).\n",
    "\n",
    "In the last function above (`tf.keras.layers.Dense()`), the fully connected layer automatically initializes weights in the graph and keeps on training them as you train the model. Hence, you did not need to initialize those weights when initializing the parameters.\n",
    "\n",
    "Lastly, before creating the model, you'll need to define the output using the last of the function's compositions (in this example, a Dense layer): \n",
    "\n",
    "- **outputs = tf.keras.layers.Dense(units=6, activation='softmax')(F)**\n",
    "\n",
    "\n",
    "#### Window, kernel, filter, pool\n",
    "\n",
    "The words \"kernel\" and \"filter\" are used to refer to the same thing. The word \"filter\" accounts for the amount of \"kernels\" that will be used in a single convolution layer. \"Pool\" is the name of the operation that takes the max or average value of the kernels. \n",
    "\n",
    "This is why the parameter `pool_size` refers to `kernel_size`, and you use `(f,f)` to refer to the filter size. \n",
    "\n",
    "Pool size and kernel size refer to the same thing in different objects - They refer to the shape of the window where the operation takes place. "
   ]
  },
  {
   "cell_type": "markdown",
   "metadata": {},
   "source": [
    "<a name='ex-2'></a>\n",
    "### Exercise 2 - convolutional_model\n",
    "\n",
    "Implement the `convolutional_model` function below to build the following model: `CONV2D -> RELU -> MAXPOOL -> CONV2D -> RELU -> MAXPOOL -> FLATTEN -> DENSE`. Use the functions above! \n",
    "\n",
    "Also, plug in the following parameters for all the steps:\n",
    "\n",
    " - [Conv2D](https://www.tensorflow.org/api_docs/python/tf/keras/layers/Conv2D): Use 8 4 by 4 filters, stride 1, padding is \"SAME\"\n",
    " - [ReLU](https://www.tensorflow.org/api_docs/python/tf/keras/layers/ReLU)\n",
    " - [MaxPool2D](https://www.tensorflow.org/api_docs/python/tf/keras/layers/MaxPool2D): Use an 8 by 8 filter size and an 8 by 8 stride, padding is \"SAME\"\n",
    " - **Conv2D**: Use 16 2 by 2 filters, stride 1, padding is \"SAME\"\n",
    " - **ReLU**\n",
    " - **MaxPool2D**: Use a 4 by 4 filter size and a 4 by 4 stride, padding is \"SAME\"\n",
    " - [Flatten](https://www.tensorflow.org/api_docs/python/tf/keras/layers/Flatten) the previous output.\n",
    " - Fully-connected ([Dense](https://www.tensorflow.org/api_docs/python/tf/keras/layers/Dense)) layer: Apply a fully connected layer with 6 neurons and a softmax activation. "
   ]
  },
  {
   "cell_type": "code",
   "execution_count": 17,
   "metadata": {
    "deletable": false,
    "nbgrader": {
     "cell_type": "code",
     "checksum": "f58643806aa8380c96225fc8b4c5e7aa",
     "grade": false,
     "grade_id": "cell-dac51744a9e03f51",
     "locked": false,
     "schema_version": 3,
     "solution": true,
     "task": false
    }
   },
   "outputs": [],
   "source": [
    "# GRADED FUNCTION: convolutional_model\n",
    "\n",
    "def convolutional_model(input_shape):\n",
    "    \"\"\"\n",
    "    Implements the forward propagation for the model:\n",
    "    CONV2D -> RELU -> MAXPOOL -> CONV2D -> RELU -> MAXPOOL -> FLATTEN -> DENSE\n",
    "    \n",
    "    Note that for simplicity and grading purposes, you'll hard-code some values\n",
    "    such as the stride and kernel (filter) sizes. \n",
    "    Normally, functions should take these values as function parameters.\n",
    "    \n",
    "    Arguments:\n",
    "    input_img -- input dataset, of shape (input_shape)\n",
    "\n",
    "    Returns:\n",
    "    model -- TF Keras model (object containing the information for the entire training process) \n",
    "    \"\"\"\n",
    "\n",
    "    input_img = tf.keras.Input(shape=input_shape)\n",
    "    ## CONV2D: 8 filters 4x4, stride of 1, padding 'SAME'\n",
    "    # Z1 = None\n",
    "    ## RELU\n",
    "    # A1 = None\n",
    "    ## MAXPOOL: window 8x8, stride 8, padding 'SAME'\n",
    "    # P1 = None\n",
    "    ## CONV2D: 16 filters 2x2, stride 1, padding 'SAME'\n",
    "    # Z2 = None\n",
    "    ## RELU\n",
    "    # A2 = None\n",
    "    ## MAXPOOL: window 4x4, stride 4, padding 'SAME'\n",
    "    # P2 = None\n",
    "    ## FLATTEN\n",
    "    # F = None\n",
    "    ## Dense layer\n",
    "    ## 6 neurons in output layer. Hint: one of the arguments should be \"activation='softmax'\" \n",
    "    # outputs = None\n",
    "    # YOUR CODE STARTS HERE\n",
    "    Z1 = tfl.Conv2D(kernel_size=(4,4),filters=8,strides=1,padding='same')(input_img)\n",
    "    A1 = tfl.ReLU()(Z1)\n",
    "    P1 = tfl.MaxPool2D(pool_size = (8,8), strides = 8, padding='same')(A1)\n",
    "    ##\n",
    "    Z2 = tfl.Conv2D(kernel_size=(2,2),filters=16,strides=1,padding='same')(P1)\n",
    "    A2 = tfl.ReLU()(Z2)\n",
    "    P2 = tfl.MaxPool2D(pool_size = (4,4), strides = 4, padding='same')(A2)\n",
    "    F = tfl.Flatten()(P2)\n",
    "    outputs = tfl.Dense(6, activation='softmax', name='fc')(F)\n",
    "    # YOUR CODE ENDS HERE\n",
    "    model = tf.keras.Model(inputs=input_img, outputs=outputs)\n",
    "    return model"
   ]
  },
  {
   "cell_type": "code",
   "execution_count": 18,
   "metadata": {
    "deletable": false,
    "editable": false,
    "nbgrader": {
     "cell_type": "code",
     "checksum": "483d626949930a0b0ef20997e7c6ba72",
     "grade": true,
     "grade_id": "cell-45d22e92042174c9",
     "locked": true,
     "points": 10,
     "schema_version": 3,
     "solution": false,
     "task": false
    }
   },
   "outputs": [
    {
     "name": "stdout",
     "output_type": "stream",
     "text": [
      "Model: \"functional_1\"\n",
      "_________________________________________________________________\n",
      "Layer (type)                 Output Shape              Param #   \n",
      "=================================================================\n",
      "input_3 (InputLayer)         [(None, 64, 64, 3)]       0         \n",
      "_________________________________________________________________\n",
      "conv2d_5 (Conv2D)            (None, 64, 64, 8)         392       \n",
      "_________________________________________________________________\n",
      "re_lu_5 (ReLU)               (None, 64, 64, 8)         0         \n",
      "_________________________________________________________________\n",
      "max_pooling2d_5 (MaxPooling2 (None, 8, 8, 8)           0         \n",
      "_________________________________________________________________\n",
      "conv2d_6 (Conv2D)            (None, 8, 8, 16)          528       \n",
      "_________________________________________________________________\n",
      "re_lu_6 (ReLU)               (None, 8, 8, 16)          0         \n",
      "_________________________________________________________________\n",
      "max_pooling2d_6 (MaxPooling2 (None, 2, 2, 16)          0         \n",
      "_________________________________________________________________\n",
      "flatten_2 (Flatten)          (None, 64)                0         \n",
      "_________________________________________________________________\n",
      "fc (Dense)                   (None, 6)                 390       \n",
      "=================================================================\n",
      "Total params: 1,310\n",
      "Trainable params: 1,310\n",
      "Non-trainable params: 0\n",
      "_________________________________________________________________\n",
      "\u001b[32mAll tests passed!\u001b[0m\n"
     ]
    }
   ],
   "source": [
    "conv_model = convolutional_model((64, 64, 3))\n",
    "conv_model.compile(optimizer='adam',\n",
    "                  loss='categorical_crossentropy',\n",
    "                  metrics=['accuracy'])\n",
    "conv_model.summary()\n",
    "    \n",
    "output = [['InputLayer', [(None, 64, 64, 3)], 0],\n",
    "        ['Conv2D', (None, 64, 64, 8), 392, 'same', 'linear', 'GlorotUniform'],\n",
    "        ['ReLU', (None, 64, 64, 8), 0],\n",
    "        ['MaxPooling2D', (None, 8, 8, 8), 0, (8, 8), (8, 8), 'same'],\n",
    "        ['Conv2D', (None, 8, 8, 16), 528, 'same', 'linear', 'GlorotUniform'],\n",
    "        ['ReLU', (None, 8, 8, 16), 0],\n",
    "        ['MaxPooling2D', (None, 2, 2, 16), 0, (4, 4), (4, 4), 'same'],\n",
    "        ['Flatten', (None, 64), 0],\n",
    "        ['Dense', (None, 6), 390, 'softmax']]\n",
    "    \n",
    "comparator(summary(conv_model), output)"
   ]
  },
  {
   "cell_type": "markdown",
   "metadata": {},
   "source": [
    "Both the Sequential and Functional APIs return a TF Keras model object. The only difference is how inputs are handled inside the object model! "
   ]
  },
  {
   "cell_type": "markdown",
   "metadata": {},
   "source": [
    "<a name='4-4'></a>\n",
    "### 4.4 - Train the Model"
   ]
  },
  {
   "cell_type": "code",
   "execution_count": 19,
   "metadata": {},
   "outputs": [
    {
     "name": "stdout",
     "output_type": "stream",
     "text": [
      "Epoch 1/100\n",
      "17/17 [==============================] - 2s 103ms/step - loss: 1.8181 - accuracy: 0.1565 - val_loss: 1.7963 - val_accuracy: 0.1667\n",
      "Epoch 2/100\n",
      "17/17 [==============================] - 2s 95ms/step - loss: 1.7916 - accuracy: 0.1880 - val_loss: 1.7901 - val_accuracy: 0.1667\n",
      "Epoch 3/100\n",
      "17/17 [==============================] - 2s 95ms/step - loss: 1.7876 - accuracy: 0.1796 - val_loss: 1.7862 - val_accuracy: 0.2167\n",
      "Epoch 4/100\n",
      "17/17 [==============================] - 2s 100ms/step - loss: 1.7831 - accuracy: 0.2176 - val_loss: 1.7818 - val_accuracy: 0.2500\n",
      "Epoch 5/100\n",
      "17/17 [==============================] - 2s 100ms/step - loss: 1.7772 - accuracy: 0.2444 - val_loss: 1.7780 - val_accuracy: 0.2833\n",
      "Epoch 6/100\n",
      "17/17 [==============================] - 2s 100ms/step - loss: 1.7720 - accuracy: 0.2426 - val_loss: 1.7723 - val_accuracy: 0.2750\n",
      "Epoch 7/100\n",
      "17/17 [==============================] - 2s 95ms/step - loss: 1.7649 - accuracy: 0.2546 - val_loss: 1.7668 - val_accuracy: 0.2833\n",
      "Epoch 8/100\n",
      "17/17 [==============================] - 2s 95ms/step - loss: 1.7575 - accuracy: 0.2722 - val_loss: 1.7606 - val_accuracy: 0.2917\n",
      "Epoch 9/100\n",
      "17/17 [==============================] - 2s 96ms/step - loss: 1.7492 - accuracy: 0.2917 - val_loss: 1.7537 - val_accuracy: 0.3000\n",
      "Epoch 10/100\n",
      "17/17 [==============================] - 2s 95ms/step - loss: 1.7392 - accuracy: 0.3111 - val_loss: 1.7457 - val_accuracy: 0.3417\n",
      "Epoch 11/100\n",
      "17/17 [==============================] - 2s 95ms/step - loss: 1.7275 - accuracy: 0.3333 - val_loss: 1.7354 - val_accuracy: 0.3500\n",
      "Epoch 12/100\n",
      "17/17 [==============================] - 2s 94ms/step - loss: 1.7138 - accuracy: 0.3519 - val_loss: 1.7241 - val_accuracy: 0.3750\n",
      "Epoch 13/100\n",
      "17/17 [==============================] - 2s 95ms/step - loss: 1.6985 - accuracy: 0.3796 - val_loss: 1.7106 - val_accuracy: 0.3750\n",
      "Epoch 14/100\n",
      "17/17 [==============================] - 2s 95ms/step - loss: 1.6814 - accuracy: 0.3963 - val_loss: 1.6953 - val_accuracy: 0.4000\n",
      "Epoch 15/100\n",
      "17/17 [==============================] - 2s 94ms/step - loss: 1.6614 - accuracy: 0.4204 - val_loss: 1.6774 - val_accuracy: 0.3917\n",
      "Epoch 16/100\n",
      "17/17 [==============================] - 2s 95ms/step - loss: 1.6404 - accuracy: 0.4333 - val_loss: 1.6568 - val_accuracy: 0.4500\n",
      "Epoch 17/100\n",
      "17/17 [==============================] - 2s 95ms/step - loss: 1.6162 - accuracy: 0.4380 - val_loss: 1.6338 - val_accuracy: 0.4667\n",
      "Epoch 18/100\n",
      "17/17 [==============================] - 2s 94ms/step - loss: 1.5892 - accuracy: 0.4472 - val_loss: 1.6091 - val_accuracy: 0.4417\n",
      "Epoch 19/100\n",
      "17/17 [==============================] - 2s 95ms/step - loss: 1.5601 - accuracy: 0.4444 - val_loss: 1.5806 - val_accuracy: 0.4500\n",
      "Epoch 20/100\n",
      "17/17 [==============================] - 2s 100ms/step - loss: 1.5294 - accuracy: 0.4657 - val_loss: 1.5514 - val_accuracy: 0.4667\n",
      "Epoch 21/100\n",
      "17/17 [==============================] - 2s 95ms/step - loss: 1.4988 - accuracy: 0.4750 - val_loss: 1.5213 - val_accuracy: 0.4833\n",
      "Epoch 22/100\n",
      "17/17 [==============================] - 2s 94ms/step - loss: 1.4678 - accuracy: 0.4935 - val_loss: 1.4897 - val_accuracy: 0.5000\n",
      "Epoch 23/100\n",
      "17/17 [==============================] - 2s 101ms/step - loss: 1.4354 - accuracy: 0.5028 - val_loss: 1.4608 - val_accuracy: 0.5167\n",
      "Epoch 24/100\n",
      "17/17 [==============================] - 2s 95ms/step - loss: 1.4051 - accuracy: 0.5167 - val_loss: 1.4311 - val_accuracy: 0.5333\n",
      "Epoch 25/100\n",
      "17/17 [==============================] - 2s 96ms/step - loss: 1.3755 - accuracy: 0.5324 - val_loss: 1.4010 - val_accuracy: 0.5417\n",
      "Epoch 26/100\n",
      "17/17 [==============================] - 2s 95ms/step - loss: 1.3465 - accuracy: 0.5361 - val_loss: 1.3712 - val_accuracy: 0.5667\n",
      "Epoch 27/100\n",
      "17/17 [==============================] - 2s 95ms/step - loss: 1.3181 - accuracy: 0.5481 - val_loss: 1.3417 - val_accuracy: 0.5917\n",
      "Epoch 28/100\n",
      "17/17 [==============================] - 2s 94ms/step - loss: 1.2900 - accuracy: 0.5694 - val_loss: 1.3118 - val_accuracy: 0.5833\n",
      "Epoch 29/100\n",
      "17/17 [==============================] - 2s 94ms/step - loss: 1.2627 - accuracy: 0.5731 - val_loss: 1.2825 - val_accuracy: 0.5917\n",
      "Epoch 30/100\n",
      "17/17 [==============================] - 2s 94ms/step - loss: 1.2357 - accuracy: 0.5870 - val_loss: 1.2533 - val_accuracy: 0.6250\n",
      "Epoch 31/100\n",
      "17/17 [==============================] - 2s 101ms/step - loss: 1.2089 - accuracy: 0.6000 - val_loss: 1.2235 - val_accuracy: 0.6417\n",
      "Epoch 32/100\n",
      "17/17 [==============================] - 2s 95ms/step - loss: 1.1820 - accuracy: 0.6102 - val_loss: 1.1955 - val_accuracy: 0.6500\n",
      "Epoch 33/100\n",
      "17/17 [==============================] - 2s 94ms/step - loss: 1.1560 - accuracy: 0.6241 - val_loss: 1.1677 - val_accuracy: 0.6333\n",
      "Epoch 34/100\n",
      "17/17 [==============================] - 2s 95ms/step - loss: 1.1305 - accuracy: 0.6343 - val_loss: 1.1382 - val_accuracy: 0.6250\n",
      "Epoch 35/100\n",
      "17/17 [==============================] - 2s 95ms/step - loss: 1.1044 - accuracy: 0.6426 - val_loss: 1.1089 - val_accuracy: 0.6333\n",
      "Epoch 36/100\n",
      "17/17 [==============================] - 2s 100ms/step - loss: 1.0801 - accuracy: 0.6528 - val_loss: 1.0822 - val_accuracy: 0.6500\n",
      "Epoch 37/100\n",
      "17/17 [==============================] - 2s 100ms/step - loss: 1.0562 - accuracy: 0.6667 - val_loss: 1.0575 - val_accuracy: 0.6583\n",
      "Epoch 38/100\n",
      "17/17 [==============================] - 2s 95ms/step - loss: 1.0342 - accuracy: 0.6713 - val_loss: 1.0328 - val_accuracy: 0.6583\n",
      "Epoch 39/100\n",
      "17/17 [==============================] - 2s 95ms/step - loss: 1.0124 - accuracy: 0.6852 - val_loss: 1.0090 - val_accuracy: 0.6750\n",
      "Epoch 40/100\n",
      "17/17 [==============================] - 2s 95ms/step - loss: 0.9914 - accuracy: 0.6972 - val_loss: 0.9872 - val_accuracy: 0.6750\n",
      "Epoch 41/100\n",
      "17/17 [==============================] - 2s 94ms/step - loss: 0.9713 - accuracy: 0.6981 - val_loss: 0.9664 - val_accuracy: 0.6917\n",
      "Epoch 42/100\n",
      "17/17 [==============================] - 2s 95ms/step - loss: 0.9528 - accuracy: 0.7056 - val_loss: 0.9466 - val_accuracy: 0.7083\n",
      "Epoch 43/100\n",
      "17/17 [==============================] - 2s 100ms/step - loss: 0.9348 - accuracy: 0.7065 - val_loss: 0.9284 - val_accuracy: 0.7000\n",
      "Epoch 44/100\n",
      "17/17 [==============================] - 2s 100ms/step - loss: 0.9176 - accuracy: 0.7120 - val_loss: 0.9099 - val_accuracy: 0.7000\n",
      "Epoch 45/100\n",
      "17/17 [==============================] - 2s 100ms/step - loss: 0.9008 - accuracy: 0.7185 - val_loss: 0.8931 - val_accuracy: 0.7083\n",
      "Epoch 46/100\n",
      "17/17 [==============================] - 2s 100ms/step - loss: 0.8849 - accuracy: 0.7241 - val_loss: 0.8763 - val_accuracy: 0.7000\n",
      "Epoch 47/100\n",
      "17/17 [==============================] - 2s 100ms/step - loss: 0.8697 - accuracy: 0.7306 - val_loss: 0.8612 - val_accuracy: 0.7250\n",
      "Epoch 48/100\n",
      "17/17 [==============================] - 2s 100ms/step - loss: 0.8550 - accuracy: 0.7352 - val_loss: 0.8472 - val_accuracy: 0.7333\n",
      "Epoch 49/100\n",
      "17/17 [==============================] - 2s 95ms/step - loss: 0.8411 - accuracy: 0.7361 - val_loss: 0.8333 - val_accuracy: 0.7333\n",
      "Epoch 50/100\n",
      "17/17 [==============================] - 2s 100ms/step - loss: 0.8273 - accuracy: 0.7389 - val_loss: 0.8204 - val_accuracy: 0.7250\n",
      "Epoch 51/100\n",
      "17/17 [==============================] - 2s 100ms/step - loss: 0.8146 - accuracy: 0.7417 - val_loss: 0.8082 - val_accuracy: 0.7250\n",
      "Epoch 52/100\n",
      "17/17 [==============================] - 2s 100ms/step - loss: 0.8023 - accuracy: 0.7463 - val_loss: 0.7969 - val_accuracy: 0.7333\n",
      "Epoch 53/100\n",
      "17/17 [==============================] - 2s 100ms/step - loss: 0.7904 - accuracy: 0.7491 - val_loss: 0.7853 - val_accuracy: 0.7333\n",
      "Epoch 54/100\n",
      "17/17 [==============================] - 2s 95ms/step - loss: 0.7789 - accuracy: 0.7519 - val_loss: 0.7751 - val_accuracy: 0.7417\n",
      "Epoch 55/100\n",
      "17/17 [==============================] - 2s 94ms/step - loss: 0.7682 - accuracy: 0.7528 - val_loss: 0.7658 - val_accuracy: 0.7417\n",
      "Epoch 56/100\n",
      "17/17 [==============================] - 2s 95ms/step - loss: 0.7578 - accuracy: 0.7546 - val_loss: 0.7565 - val_accuracy: 0.7500\n",
      "Epoch 57/100\n",
      "17/17 [==============================] - 2s 100ms/step - loss: 0.7475 - accuracy: 0.7574 - val_loss: 0.7479 - val_accuracy: 0.7417\n",
      "Epoch 58/100\n",
      "17/17 [==============================] - 2s 100ms/step - loss: 0.7379 - accuracy: 0.7574 - val_loss: 0.7394 - val_accuracy: 0.7417\n",
      "Epoch 59/100\n",
      "17/17 [==============================] - 2s 94ms/step - loss: 0.7284 - accuracy: 0.7565 - val_loss: 0.7326 - val_accuracy: 0.7417\n",
      "Epoch 60/100\n",
      "17/17 [==============================] - 2s 95ms/step - loss: 0.7193 - accuracy: 0.7593 - val_loss: 0.7255 - val_accuracy: 0.7333\n",
      "Epoch 61/100\n",
      "17/17 [==============================] - 2s 100ms/step - loss: 0.7105 - accuracy: 0.7602 - val_loss: 0.7180 - val_accuracy: 0.7333\n",
      "Epoch 62/100\n",
      "17/17 [==============================] - 2s 100ms/step - loss: 0.7018 - accuracy: 0.7630 - val_loss: 0.7106 - val_accuracy: 0.7250\n",
      "Epoch 63/100\n",
      "17/17 [==============================] - 2s 100ms/step - loss: 0.6938 - accuracy: 0.7657 - val_loss: 0.7025 - val_accuracy: 0.7417\n",
      "Epoch 64/100\n",
      "17/17 [==============================] - 2s 95ms/step - loss: 0.6858 - accuracy: 0.7685 - val_loss: 0.6960 - val_accuracy: 0.7500\n",
      "Epoch 65/100\n",
      "17/17 [==============================] - 2s 95ms/step - loss: 0.6779 - accuracy: 0.7750 - val_loss: 0.6895 - val_accuracy: 0.7500\n",
      "Epoch 66/100\n",
      "17/17 [==============================] - 2s 100ms/step - loss: 0.6702 - accuracy: 0.7750 - val_loss: 0.6829 - val_accuracy: 0.7583\n",
      "Epoch 67/100\n",
      "17/17 [==============================] - 2s 95ms/step - loss: 0.6631 - accuracy: 0.7731 - val_loss: 0.6767 - val_accuracy: 0.7583\n",
      "Epoch 68/100\n",
      "17/17 [==============================] - 2s 95ms/step - loss: 0.6561 - accuracy: 0.7759 - val_loss: 0.6708 - val_accuracy: 0.7583\n",
      "Epoch 69/100\n",
      "17/17 [==============================] - 2s 106ms/step - loss: 0.6489 - accuracy: 0.7759 - val_loss: 0.6658 - val_accuracy: 0.7500\n",
      "Epoch 70/100\n",
      "17/17 [==============================] - 2s 100ms/step - loss: 0.6423 - accuracy: 0.7787 - val_loss: 0.6617 - val_accuracy: 0.7583\n",
      "Epoch 71/100\n",
      "17/17 [==============================] - 2s 95ms/step - loss: 0.6358 - accuracy: 0.7796 - val_loss: 0.6562 - val_accuracy: 0.7583\n",
      "Epoch 72/100\n",
      "17/17 [==============================] - 2s 94ms/step - loss: 0.6291 - accuracy: 0.7833 - val_loss: 0.6499 - val_accuracy: 0.7667\n",
      "Epoch 73/100\n",
      "17/17 [==============================] - 2s 95ms/step - loss: 0.6229 - accuracy: 0.7843 - val_loss: 0.6455 - val_accuracy: 0.7667\n",
      "Epoch 74/100\n",
      "17/17 [==============================] - 2s 100ms/step - loss: 0.6168 - accuracy: 0.7843 - val_loss: 0.6397 - val_accuracy: 0.7667\n",
      "Epoch 75/100\n",
      "17/17 [==============================] - 2s 100ms/step - loss: 0.6106 - accuracy: 0.7889 - val_loss: 0.6355 - val_accuracy: 0.7667\n",
      "Epoch 76/100\n",
      "17/17 [==============================] - 2s 100ms/step - loss: 0.6044 - accuracy: 0.7926 - val_loss: 0.6306 - val_accuracy: 0.7667\n",
      "Epoch 77/100\n",
      "17/17 [==============================] - 2s 100ms/step - loss: 0.5990 - accuracy: 0.7954 - val_loss: 0.6258 - val_accuracy: 0.7667\n",
      "Epoch 78/100\n",
      "17/17 [==============================] - 2s 94ms/step - loss: 0.5930 - accuracy: 0.7991 - val_loss: 0.6219 - val_accuracy: 0.7667\n",
      "Epoch 79/100\n",
      "17/17 [==============================] - 2s 95ms/step - loss: 0.5877 - accuracy: 0.7972 - val_loss: 0.6203 - val_accuracy: 0.7750\n",
      "Epoch 80/100\n",
      "17/17 [==============================] - 2s 95ms/step - loss: 0.5826 - accuracy: 0.7954 - val_loss: 0.6143 - val_accuracy: 0.7833\n",
      "Epoch 81/100\n",
      "17/17 [==============================] - 2s 95ms/step - loss: 0.5767 - accuracy: 0.8028 - val_loss: 0.6102 - val_accuracy: 0.7833\n",
      "Epoch 82/100\n",
      "17/17 [==============================] - 2s 95ms/step - loss: 0.5712 - accuracy: 0.8074 - val_loss: 0.6068 - val_accuracy: 0.7833\n",
      "Epoch 83/100\n",
      "17/17 [==============================] - 2s 95ms/step - loss: 0.5661 - accuracy: 0.8056 - val_loss: 0.6044 - val_accuracy: 0.7833\n",
      "Epoch 84/100\n",
      "17/17 [==============================] - 2s 94ms/step - loss: 0.5608 - accuracy: 0.8111 - val_loss: 0.6009 - val_accuracy: 0.7833\n",
      "Epoch 85/100\n",
      "17/17 [==============================] - 2s 94ms/step - loss: 0.5563 - accuracy: 0.8130 - val_loss: 0.5984 - val_accuracy: 0.7917\n",
      "Epoch 86/100\n",
      "17/17 [==============================] - 2s 99ms/step - loss: 0.5512 - accuracy: 0.8130 - val_loss: 0.5958 - val_accuracy: 0.7917\n",
      "Epoch 87/100\n",
      "17/17 [==============================] - 2s 94ms/step - loss: 0.5463 - accuracy: 0.8120 - val_loss: 0.5931 - val_accuracy: 0.7917\n",
      "Epoch 88/100\n",
      "17/17 [==============================] - 2s 94ms/step - loss: 0.5417 - accuracy: 0.8102 - val_loss: 0.5901 - val_accuracy: 0.7917\n",
      "Epoch 89/100\n",
      "17/17 [==============================] - 2s 105ms/step - loss: 0.5370 - accuracy: 0.8130 - val_loss: 0.5870 - val_accuracy: 0.8000\n",
      "Epoch 90/100\n",
      "17/17 [==============================] - 2s 95ms/step - loss: 0.5326 - accuracy: 0.8148 - val_loss: 0.5833 - val_accuracy: 0.8000\n",
      "Epoch 91/100\n",
      "17/17 [==============================] - 2s 100ms/step - loss: 0.5284 - accuracy: 0.8157 - val_loss: 0.5805 - val_accuracy: 0.8083\n",
      "Epoch 92/100\n",
      "17/17 [==============================] - 2s 100ms/step - loss: 0.5238 - accuracy: 0.8176 - val_loss: 0.5771 - val_accuracy: 0.8083\n",
      "Epoch 93/100\n",
      "17/17 [==============================] - 2s 100ms/step - loss: 0.5191 - accuracy: 0.8204 - val_loss: 0.5745 - val_accuracy: 0.8083\n",
      "Epoch 94/100\n",
      "17/17 [==============================] - 2s 95ms/step - loss: 0.5150 - accuracy: 0.8213 - val_loss: 0.5720 - val_accuracy: 0.8083\n",
      "Epoch 95/100\n",
      "17/17 [==============================] - 2s 99ms/step - loss: 0.5111 - accuracy: 0.8231 - val_loss: 0.5685 - val_accuracy: 0.8083\n",
      "Epoch 96/100\n",
      "17/17 [==============================] - 2s 95ms/step - loss: 0.5069 - accuracy: 0.8259 - val_loss: 0.5687 - val_accuracy: 0.8083\n",
      "Epoch 97/100\n",
      "17/17 [==============================] - 2s 95ms/step - loss: 0.5035 - accuracy: 0.8250 - val_loss: 0.5661 - val_accuracy: 0.8083\n",
      "Epoch 98/100\n",
      "17/17 [==============================] - 2s 94ms/step - loss: 0.4995 - accuracy: 0.8259 - val_loss: 0.5639 - val_accuracy: 0.8083\n",
      "Epoch 99/100\n",
      "17/17 [==============================] - 2s 95ms/step - loss: 0.4959 - accuracy: 0.8278 - val_loss: 0.5606 - val_accuracy: 0.8083\n",
      "Epoch 100/100\n",
      "17/17 [==============================] - 2s 99ms/step - loss: 0.4919 - accuracy: 0.8269 - val_loss: 0.5591 - val_accuracy: 0.8083\n"
     ]
    }
   ],
   "source": [
    "train_dataset = tf.data.Dataset.from_tensor_slices((X_train, Y_train)).batch(64)\n",
    "test_dataset = tf.data.Dataset.from_tensor_slices((X_test, Y_test)).batch(64)\n",
    "history = conv_model.fit(train_dataset, epochs=100, validation_data=test_dataset)"
   ]
  },
  {
   "cell_type": "markdown",
   "metadata": {},
   "source": [
    "<a name='5'></a>\n",
    "## 5 - History Object \n",
    "\n",
    "The history object is an output of the `.fit()` operation, and provides a record of all the loss and metric values in memory. It's stored as a dictionary that you can retrieve at `history.history`: "
   ]
  },
  {
   "cell_type": "code",
   "execution_count": 20,
   "metadata": {},
   "outputs": [
    {
     "data": {
      "text/plain": [
       "{'loss': [1.8181114196777344,\n",
       "  1.7915719747543335,\n",
       "  1.7876094579696655,\n",
       "  1.7831017971038818,\n",
       "  1.777167797088623,\n",
       "  1.771975040435791,\n",
       "  1.7649056911468506,\n",
       "  1.7575350999832153,\n",
       "  1.749161720275879,\n",
       "  1.7391513586044312,\n",
       "  1.7275136709213257,\n",
       "  1.7138311862945557,\n",
       "  1.6985138654708862,\n",
       "  1.6813660860061646,\n",
       "  1.661421298980713,\n",
       "  1.6403634548187256,\n",
       "  1.616161823272705,\n",
       "  1.5891770124435425,\n",
       "  1.560119867324829,\n",
       "  1.5294427871704102,\n",
       "  1.4987869262695312,\n",
       "  1.4677515029907227,\n",
       "  1.4353522062301636,\n",
       "  1.4050520658493042,\n",
       "  1.375481367111206,\n",
       "  1.346465826034546,\n",
       "  1.3180952072143555,\n",
       "  1.2900445461273193,\n",
       "  1.2627053260803223,\n",
       "  1.2357209920883179,\n",
       "  1.2089251279830933,\n",
       "  1.1820240020751953,\n",
       "  1.156034231185913,\n",
       "  1.1305299997329712,\n",
       "  1.1043869256973267,\n",
       "  1.0801116228103638,\n",
       "  1.056248664855957,\n",
       "  1.0342371463775635,\n",
       "  1.012364387512207,\n",
       "  0.991360604763031,\n",
       "  0.9712579846382141,\n",
       "  0.9528406262397766,\n",
       "  0.9348185062408447,\n",
       "  0.9176331162452698,\n",
       "  0.9008329510688782,\n",
       "  0.8848903179168701,\n",
       "  0.869719386100769,\n",
       "  0.8550376296043396,\n",
       "  0.8411486148834229,\n",
       "  0.8273033499717712,\n",
       "  0.8145855069160461,\n",
       "  0.802277147769928,\n",
       "  0.7903613448143005,\n",
       "  0.7789342403411865,\n",
       "  0.7682282328605652,\n",
       "  0.757762610912323,\n",
       "  0.7475265860557556,\n",
       "  0.7378526329994202,\n",
       "  0.7283520698547363,\n",
       "  0.7192836999893188,\n",
       "  0.7105010151863098,\n",
       "  0.7018266320228577,\n",
       "  0.6938073039054871,\n",
       "  0.6857773065567017,\n",
       "  0.6778648495674133,\n",
       "  0.6702011227607727,\n",
       "  0.6631017923355103,\n",
       "  0.6561087965965271,\n",
       "  0.6489301919937134,\n",
       "  0.6423312425613403,\n",
       "  0.6358455419540405,\n",
       "  0.6290993094444275,\n",
       "  0.6228944659233093,\n",
       "  0.6167568564414978,\n",
       "  0.6106278300285339,\n",
       "  0.6043937802314758,\n",
       "  0.5990484356880188,\n",
       "  0.5929689407348633,\n",
       "  0.58772873878479,\n",
       "  0.5825814604759216,\n",
       "  0.5766781568527222,\n",
       "  0.5712160468101501,\n",
       "  0.5661486983299255,\n",
       "  0.5608195662498474,\n",
       "  0.5563287734985352,\n",
       "  0.5511764883995056,\n",
       "  0.546337366104126,\n",
       "  0.5416718125343323,\n",
       "  0.5370470881462097,\n",
       "  0.5325881242752075,\n",
       "  0.5283752679824829,\n",
       "  0.5238402485847473,\n",
       "  0.5190809369087219,\n",
       "  0.5150234699249268,\n",
       "  0.5111104249954224,\n",
       "  0.50687175989151,\n",
       "  0.5034714937210083,\n",
       "  0.49953895807266235,\n",
       "  0.4958591163158417,\n",
       "  0.491872102022171],\n",
       " 'accuracy': [0.15648147463798523,\n",
       "  0.18796296417713165,\n",
       "  0.1796296238899231,\n",
       "  0.21759259700775146,\n",
       "  0.24444444477558136,\n",
       "  0.24259258806705475,\n",
       "  0.25462964177131653,\n",
       "  0.27222222089767456,\n",
       "  0.2916666567325592,\n",
       "  0.31111112236976624,\n",
       "  0.3333333432674408,\n",
       "  0.35185185074806213,\n",
       "  0.37962964177131653,\n",
       "  0.39629629254341125,\n",
       "  0.4203703701496124,\n",
       "  0.4333333373069763,\n",
       "  0.43796294927597046,\n",
       "  0.4472222328186035,\n",
       "  0.4444444477558136,\n",
       "  0.46574074029922485,\n",
       "  0.4749999940395355,\n",
       "  0.49351853132247925,\n",
       "  0.5027777552604675,\n",
       "  0.5166666507720947,\n",
       "  0.5324074029922485,\n",
       "  0.5361111164093018,\n",
       "  0.5481481552124023,\n",
       "  0.5694444179534912,\n",
       "  0.5731481313705444,\n",
       "  0.5870370268821716,\n",
       "  0.6000000238418579,\n",
       "  0.6101852059364319,\n",
       "  0.6240741014480591,\n",
       "  0.6342592835426331,\n",
       "  0.6425926089286804,\n",
       "  0.6527777910232544,\n",
       "  0.6666666865348816,\n",
       "  0.6712962985038757,\n",
       "  0.6851851940155029,\n",
       "  0.6972222328186035,\n",
       "  0.6981481313705444,\n",
       "  0.7055555582046509,\n",
       "  0.7064814567565918,\n",
       "  0.7120370268821716,\n",
       "  0.7185184955596924,\n",
       "  0.7240740656852722,\n",
       "  0.730555534362793,\n",
       "  0.7351852059364319,\n",
       "  0.7361111044883728,\n",
       "  0.7388888597488403,\n",
       "  0.7416666746139526,\n",
       "  0.7462962865829468,\n",
       "  0.7490741014480591,\n",
       "  0.7518518567085266,\n",
       "  0.7527777552604675,\n",
       "  0.7546296119689941,\n",
       "  0.7574074268341064,\n",
       "  0.7574074268341064,\n",
       "  0.7564814686775208,\n",
       "  0.7592592835426331,\n",
       "  0.760185182094574,\n",
       "  0.7629629373550415,\n",
       "  0.7657407522201538,\n",
       "  0.7685185074806213,\n",
       "  0.7749999761581421,\n",
       "  0.7749999761581421,\n",
       "  0.7731481194496155,\n",
       "  0.7759259343147278,\n",
       "  0.7759259343147278,\n",
       "  0.7787036895751953,\n",
       "  0.779629647731781,\n",
       "  0.7833333611488342,\n",
       "  0.7842592597007751,\n",
       "  0.7842592597007751,\n",
       "  0.7888888716697693,\n",
       "  0.7925925850868225,\n",
       "  0.7953703999519348,\n",
       "  0.7990740537643433,\n",
       "  0.7972221970558167,\n",
       "  0.7953703999519348,\n",
       "  0.8027777671813965,\n",
       "  0.8074073791503906,\n",
       "  0.8055555820465088,\n",
       "  0.8111110925674438,\n",
       "  0.8129629492759705,\n",
       "  0.8129629492759705,\n",
       "  0.8120370507240295,\n",
       "  0.8101851940155029,\n",
       "  0.8129629492759705,\n",
       "  0.8148148059844971,\n",
       "  0.8157407641410828,\n",
       "  0.8175926208496094,\n",
       "  0.8203703761100769,\n",
       "  0.8212962746620178,\n",
       "  0.8231481313705444,\n",
       "  0.8259259462356567,\n",
       "  0.824999988079071,\n",
       "  0.8259259462356567,\n",
       "  0.8277778029441833,\n",
       "  0.8268518447875977],\n",
       " 'val_loss': [1.7963404655456543,\n",
       "  1.790075659751892,\n",
       "  1.786177158355713,\n",
       "  1.7817585468292236,\n",
       "  1.7779923677444458,\n",
       "  1.7723166942596436,\n",
       "  1.7668205499649048,\n",
       "  1.7606089115142822,\n",
       "  1.7536524534225464,\n",
       "  1.7456505298614502,\n",
       "  1.735435128211975,\n",
       "  1.724084496498108,\n",
       "  1.710612177848816,\n",
       "  1.695341944694519,\n",
       "  1.6774060726165771,\n",
       "  1.6567927598953247,\n",
       "  1.6337813138961792,\n",
       "  1.609143614768982,\n",
       "  1.580608606338501,\n",
       "  1.5513707399368286,\n",
       "  1.521349310874939,\n",
       "  1.4896700382232666,\n",
       "  1.460802674293518,\n",
       "  1.431098222732544,\n",
       "  1.4009805917739868,\n",
       "  1.3711684942245483,\n",
       "  1.3416905403137207,\n",
       "  1.3118146657943726,\n",
       "  1.2824556827545166,\n",
       "  1.2532703876495361,\n",
       "  1.2234975099563599,\n",
       "  1.1954865455627441,\n",
       "  1.1677320003509521,\n",
       "  1.1382441520690918,\n",
       "  1.1088804006576538,\n",
       "  1.0822181701660156,\n",
       "  1.05751371383667,\n",
       "  1.0328294038772583,\n",
       "  1.0089738368988037,\n",
       "  0.9871944189071655,\n",
       "  0.9663934111595154,\n",
       "  0.9465841054916382,\n",
       "  0.9284355044364929,\n",
       "  0.9099004864692688,\n",
       "  0.8931180238723755,\n",
       "  0.876333475112915,\n",
       "  0.8612417578697205,\n",
       "  0.8471896052360535,\n",
       "  0.8333478569984436,\n",
       "  0.8204395174980164,\n",
       "  0.8081672787666321,\n",
       "  0.7969435453414917,\n",
       "  0.7852857112884521,\n",
       "  0.7751257419586182,\n",
       "  0.7658036351203918,\n",
       "  0.7564604878425598,\n",
       "  0.7479203939437866,\n",
       "  0.7394238710403442,\n",
       "  0.7326350808143616,\n",
       "  0.725452184677124,\n",
       "  0.718038022518158,\n",
       "  0.710641086101532,\n",
       "  0.7024778723716736,\n",
       "  0.6959869265556335,\n",
       "  0.6895030736923218,\n",
       "  0.682880163192749,\n",
       "  0.676701009273529,\n",
       "  0.6707519292831421,\n",
       "  0.66575688123703,\n",
       "  0.6617036461830139,\n",
       "  0.6562183499336243,\n",
       "  0.6498655676841736,\n",
       "  0.645470380783081,\n",
       "  0.6397496461868286,\n",
       "  0.6354907751083374,\n",
       "  0.6305912137031555,\n",
       "  0.6258329749107361,\n",
       "  0.6218795776367188,\n",
       "  0.6202904582023621,\n",
       "  0.6142733097076416,\n",
       "  0.610244870185852,\n",
       "  0.6067982912063599,\n",
       "  0.6044345498085022,\n",
       "  0.600930392742157,\n",
       "  0.5983821749687195,\n",
       "  0.5958067774772644,\n",
       "  0.5931374430656433,\n",
       "  0.5901272892951965,\n",
       "  0.5869553089141846,\n",
       "  0.5832616090774536,\n",
       "  0.5805012583732605,\n",
       "  0.577089250087738,\n",
       "  0.5745149850845337,\n",
       "  0.5719900727272034,\n",
       "  0.5685021877288818,\n",
       "  0.5686941742897034,\n",
       "  0.5660844445228577,\n",
       "  0.5639482140541077,\n",
       "  0.5605613589286804,\n",
       "  0.5590733885765076],\n",
       " 'val_accuracy': [0.1666666716337204,\n",
       "  0.1666666716337204,\n",
       "  0.21666666865348816,\n",
       "  0.25,\n",
       "  0.28333333134651184,\n",
       "  0.2750000059604645,\n",
       "  0.28333333134651184,\n",
       "  0.2916666567325592,\n",
       "  0.30000001192092896,\n",
       "  0.34166666865348816,\n",
       "  0.3499999940395355,\n",
       "  0.375,\n",
       "  0.375,\n",
       "  0.4000000059604645,\n",
       "  0.3916666805744171,\n",
       "  0.44999998807907104,\n",
       "  0.46666666865348816,\n",
       "  0.4416666626930237,\n",
       "  0.44999998807907104,\n",
       "  0.46666666865348816,\n",
       "  0.4833333194255829,\n",
       "  0.5,\n",
       "  0.5166666507720947,\n",
       "  0.5333333611488342,\n",
       "  0.5416666865348816,\n",
       "  0.5666666626930237,\n",
       "  0.5916666388511658,\n",
       "  0.5833333134651184,\n",
       "  0.5916666388511658,\n",
       "  0.625,\n",
       "  0.6416666507720947,\n",
       "  0.6499999761581421,\n",
       "  0.6333333253860474,\n",
       "  0.625,\n",
       "  0.6333333253860474,\n",
       "  0.6499999761581421,\n",
       "  0.6583333611488342,\n",
       "  0.6583333611488342,\n",
       "  0.675000011920929,\n",
       "  0.675000011920929,\n",
       "  0.6916666626930237,\n",
       "  0.7083333134651184,\n",
       "  0.699999988079071,\n",
       "  0.699999988079071,\n",
       "  0.7083333134651184,\n",
       "  0.699999988079071,\n",
       "  0.7250000238418579,\n",
       "  0.7333333492279053,\n",
       "  0.7333333492279053,\n",
       "  0.7250000238418579,\n",
       "  0.7250000238418579,\n",
       "  0.7333333492279053,\n",
       "  0.7333333492279053,\n",
       "  0.7416666746139526,\n",
       "  0.7416666746139526,\n",
       "  0.75,\n",
       "  0.7416666746139526,\n",
       "  0.7416666746139526,\n",
       "  0.7416666746139526,\n",
       "  0.7333333492279053,\n",
       "  0.7333333492279053,\n",
       "  0.7250000238418579,\n",
       "  0.7416666746139526,\n",
       "  0.75,\n",
       "  0.75,\n",
       "  0.7583333253860474,\n",
       "  0.7583333253860474,\n",
       "  0.7583333253860474,\n",
       "  0.75,\n",
       "  0.7583333253860474,\n",
       "  0.7583333253860474,\n",
       "  0.7666666507720947,\n",
       "  0.7666666507720947,\n",
       "  0.7666666507720947,\n",
       "  0.7666666507720947,\n",
       "  0.7666666507720947,\n",
       "  0.7666666507720947,\n",
       "  0.7666666507720947,\n",
       "  0.7749999761581421,\n",
       "  0.7833333611488342,\n",
       "  0.7833333611488342,\n",
       "  0.7833333611488342,\n",
       "  0.7833333611488342,\n",
       "  0.7833333611488342,\n",
       "  0.7916666865348816,\n",
       "  0.7916666865348816,\n",
       "  0.7916666865348816,\n",
       "  0.7916666865348816,\n",
       "  0.800000011920929,\n",
       "  0.800000011920929,\n",
       "  0.8083333373069763,\n",
       "  0.8083333373069763,\n",
       "  0.8083333373069763,\n",
       "  0.8083333373069763,\n",
       "  0.8083333373069763,\n",
       "  0.8083333373069763,\n",
       "  0.8083333373069763,\n",
       "  0.8083333373069763,\n",
       "  0.8083333373069763,\n",
       "  0.8083333373069763]}"
      ]
     },
     "execution_count": 20,
     "metadata": {},
     "output_type": "execute_result"
    }
   ],
   "source": [
    "history.history"
   ]
  },
  {
   "cell_type": "markdown",
   "metadata": {},
   "source": [
    "Now visualize the loss over time using `history.history`: "
   ]
  },
  {
   "cell_type": "code",
   "execution_count": 21,
   "metadata": {},
   "outputs": [
    {
     "data": {
      "text/plain": [
       "[Text(0, 0.5, 'Accuracy'), Text(0.5, 0, 'Epoch')]"
      ]
     },
     "execution_count": 21,
     "metadata": {},
     "output_type": "execute_result"
    },
    {
     "data": {
      "image/png": "[encoded data removed]",
      "text/plain": [
       "<Figure size 864x576 with 1 Axes>"
      ]
     },
     "metadata": {
      "needs_background": "light"
     },
     "output_type": "display_data"
    },
    {
     "data": {
      "image/png": "[encoded data removed]",
      "text/plain": [
       "<Figure size 864x576 with 1 Axes>"
      ]
     },
     "metadata": {
      "needs_background": "light"
     },
     "output_type": "display_data"
    }
   ],
   "source": [
    "# The history.history[\"loss\"] entry is a dictionary with as many values as epochs that the\n",
    "# model was trained on. \n",
    "df_loss_acc = pd.DataFrame(history.history)\n",
    "df_loss= df_loss_acc[['loss','val_loss']]\n",
    "df_loss.rename(columns={'loss':'train','val_loss':'validation'},inplace=True)\n",
    "df_acc= df_loss_acc[['accuracy','val_accuracy']]\n",
    "df_acc.rename(columns={'accuracy':'train','val_accuracy':'validation'},inplace=True)\n",
    "df_loss.plot(title='Model loss',figsize=(12,8)).set(xlabel='Epoch',ylabel='Loss')\n",
    "df_acc.plot(title='Model Accuracy',figsize=(12,8)).set(xlabel='Epoch',ylabel='Accuracy')"
   ]
  },
  {
   "cell_type": "markdown",
   "metadata": {},
   "source": [
    "**Congratulations**! You've finished the assignment and built two models: One that recognizes  smiles, and another that recognizes SIGN language with almost 80% accuracy on the test set. In addition to that, you now also understand the applications of two Keras APIs: Sequential and Functional. Nicely done! \n",
    "\n",
    "By now, you know a bit about how the Functional API works and may have glimpsed the possibilities. In your next assignment, you'll really get a feel for its power when you get the opportunity to build a very deep ConvNet, using ResNets! "
   ]
  },
  {
   "cell_type": "markdown",
   "metadata": {},
   "source": [
    "<a name='6'></a>\n",
    "## 6 - Bibliography\n",
    "\n",
    "You're always encouraged to read the official documentation. To that end, you can find the docs for the Sequential and Functional APIs here: \n",
    "\n",
    "https://www.tensorflow.org/guide/keras/sequential_model\n",
    "\n",
    "https://www.tensorflow.org/guide/keras/functional"
   ]
  }
 ],
 "metadata": {
  "coursera": {
   "course_slug": "convolutional-neural-networks",
   "graded_item_id": "bwbJV",
   "launcher_item_id": "0TkXB"
  },
  "kernelspec": {
   "display_name": "Python 3",
   "language": "python",
   "name": "python3"
  },
  "language_info": {
   "codemirror_mode": {
    "name": "ipython",
    "version": 3
   },
   "file_extension": ".py",
   "mimetype": "text/x-python",
   "name": "python",
   "nbconvert_exporter": "python",
   "pygments_lexer": "ipython3",
   "version": "3.7.6"
  }
 },
 "nbformat": 4,
 "nbformat_minor": 2
}
